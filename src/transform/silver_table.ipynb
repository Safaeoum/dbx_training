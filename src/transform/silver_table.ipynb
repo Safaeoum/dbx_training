{
 "cells": [
  {
   "cell_type": "markdown",
   "metadata": {
    "application/vnd.databricks.v1+cell": {
     "cellMetadata": {},
     "inputWidgets": {},
     "nuid": "187e9108-f2a7-4337-858b-4cc04d91f209",
     "showTitle": false,
     "title": ""
    }
   },
   "source": [
    "###Clean and transform the Data, write to unity catalog SILVER table"
   ]
  },
  {
   "cell_type": "code",
   "execution_count": 0,
   "metadata": {
    "application/vnd.databricks.v1+cell": {
     "cellMetadata": {
      "byteLimit": 2048000,
      "rowLimit": 10000
     },
     "inputWidgets": {},
     "nuid": "f84f4e1b-e74f-4576-891f-ca1b11bdde2a",
     "showTitle": false,
     "title": ""
    }
   },
   "outputs": [],
   "source": [
    "from pyspark.sql.functions import col, hour\n",
    "from pyspark.sql.functions import to_timestamp\n",
    "from pyspark.sql.types import IntegerType\n",
    "\n",
    "schema: str = \"so_schema\"\n",
    "\n",
    "# Change Date and Date_et_heure_de_restitution to timestamp format\n",
    "df_silver = (spark.read\n",
    "             .table(f\"dbx_training.{schema}.bronze_objets_trouves\")\n",
    "             .withColumn(\"Date\", to_timestamp(\"Date\", \"yyyy-MM-dd'T'HH:mm:ssXXX\"))\n",
    "             .withColumn(\"Date_et_heure_de_restitution\", to_timestamp(\"Date_et_heure_de_restitution\", \"yyyy-MM-dd'T'HH:mm:ssXXX\")))\n",
    "\n",
    "# Filter non-numeric values in Code_UIC\n",
    "df_silver = df_silver.filter(col(\"Code_UIC\").rlike(\"^\\d+(\\.\\d+)?$\"))\n",
    "\n",
    "# Change Code_UIC type to int\n",
    "df_silver = df_silver.withColumn(\"Code_UIC\", col(\"Code_UIC\").cast(IntegerType()))\n",
    "\n",
    "# Drop rows with missing values\n",
    "df_silver = df_silver.dropna()\n",
    "\n",
    "# Deduplicate data\n",
    "df_silver = df_silver.dropDuplicates()\n",
    "\n",
    "# Add a new column Hour\n",
    "df_silver = df_silver.withColumn('Hour', hour(col('Date')))\n",
    "\n",
    "# Create and store the data in a delta table \"silver_objets_trouves\"\n",
    "df_silver.write.mode(\"overwrite\").saveAsTable(f\"dbx_training.{schema}.silver_objets_trouves\")"
   ]
  }
 ],
 "metadata": {
  "application/vnd.databricks.v1+notebook": {
   "dashboards": [
    {
     "elements": [],
     "globalVars": {},
     "guid": "",
     "layoutOption": {
      "grid": true,
      "stack": true
     },
     "nuid": "b6de689c-6afc-4be3-9051-06300e69f612",
     "origId": 1705173994856007,
     "title": "dashboard_lost_objects",
     "version": "DashboardViewV1",
     "width": 1024
    }
   ],
   "environmentMetadata": {
    "base_environment": "",
    "client": "1"
   },
   "language": "python",
   "notebookMetadata": {
    "mostRecentlyExecutedCommandWithImplicitDF": {
     "commandId": 1297510037869943,
     "dataframes": [
      "_sqldf"
     ]
    },
    "pythonIndentUnit": 4
   },
   "notebookName": "silver_table",
   "widgets": {}
  }
 },
 "nbformat": 4,
 "nbformat_minor": 0
}
