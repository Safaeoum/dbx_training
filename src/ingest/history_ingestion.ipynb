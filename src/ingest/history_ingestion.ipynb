{
 "cells": [
  {
   "cell_type": "markdown",
   "metadata": {
    "application/vnd.databricks.v1+cell": {
     "cellMetadata": {
      "byteLimit": 2048000,
      "rowLimit": 10000
     },
     "inputWidgets": {},
     "nuid": "c775e89d-8b0b-4a8b-bde4-fae449b935ed",
     "showTitle": true,
     "title": ""
    },
    "jupyter": {
     "outputs_hidden": true
    }
   },
   "source": [
    "# History Ingest"
   ]
  },
  {
   "cell_type": "markdown",
   "metadata": {
    "application/vnd.databricks.v1+cell": {
     "cellMetadata": {},
     "inputWidgets": {},
     "nuid": "d090eb0b-4f21-44f3-b4e8-3c5ab597394b",
     "showTitle": false,
     "title": ""
    }
   },
   "source": [
    "## Generate a csv in a volume (locally)"
   ]
  },
  {
   "cell_type": "code",
   "execution_count": 0,
   "metadata": {
    "application/vnd.databricks.v1+cell": {
     "cellMetadata": {
      "byteLimit": 2048000,
      "rowLimit": 10000
     },
     "inputWidgets": {},
     "nuid": "312caa8b-05ff-47e8-b128-c870267de82e",
     "showTitle": false,
     "title": ""
    }
   },
   "outputs": [],
   "source": [
    "import requests\n",
    "\n",
    "schema: str = \"so_schema\"\n",
    "# limit: int = 200\n",
    "csv_path: str = f\"/Volumes/dbx_training/{schema}/raw_files_objets_trouves/data.csv\"\n",
    "\n",
    "raw_url_objets_trouves: str = f\"https://ressources.data.sncf.com/api/explore/v2.1/catalog/datasets/objets-trouves-restitution/exports/csv?lang=fr&timezone=Europe%2FBerlin&use_labels=true&delimiter=%3B\"\n",
    "\n",
    "response = requests.get(raw_url_objets_trouves)\n",
    "response.raise_for_status()\n",
    "\n",
    "with open(csv_path, \"wb\") as file:\n",
    "    file.write(response.content)"
   ]
  },
  {
   "cell_type": "markdown",
   "metadata": {
    "application/vnd.databricks.v1+cell": {
     "cellMetadata": {},
     "inputWidgets": {},
     "nuid": "30ad0f0f-4bb3-45dd-b5d0-49142bd67db0",
     "showTitle": false,
     "title": ""
    }
   },
   "source": [
    "### Read CSV, convert to Spark Dataframe, write to unity catalog BRONZE table"
   ]
  },
  {
   "cell_type": "code",
   "execution_count": 0,
   "metadata": {
    "application/vnd.databricks.v1+cell": {
     "cellMetadata": {
      "byteLimit": 2048000,
      "rowLimit": 10000
     },
     "inputWidgets": {},
     "nuid": "a2ffd57b-30e2-462b-b8e9-63ed4168d7ff",
     "showTitle": false,
     "title": ""
    }
   },
   "outputs": [],
   "source": [
    "# Transform csv file to a spark dataframe\n",
    "df_bronze = spark.read.option(\"header\",\"true\").option(\"delimiter\",\";\").csv(csv_path)\n",
    "\n",
    "# Rename columns to delete \" \"\n",
    "df_bronze = (df_bronze\n",
    "             .withColumnRenamed(\"Date et heure de restitution\", \"Date_et_heure_de_restitution\")\n",
    "             .withColumnRenamed(\"Code UIC\", \"Code_UIC\")\n",
    "             .withColumnRenamed(\"Nature d'objets\", \"Nature_d'objets\")\n",
    "             .withColumnRenamed( \"Type d'objets\", \"Type_d'objets\")\n",
    "             .withColumnRenamed( \"Type d'enregistrement\", \"Type_d'enregistrement\"))\n",
    "\n",
    "# Keep data related 2023\n",
    "df_bronze = df_bronze.filter(df_bronze[\"Date\"].like(\"2023-%\"))\n",
    "\n",
    "# Create and store the data in a delta table \"bronze_objets_trouves\"\n",
    "df_bronze.write.mode(\"overwrite\").saveAsTable(f\"dbx_training.{schema}.bronze_objets_trouves\")\n",
    "\n",
    "# Delete the csv file in the volume\n",
    "#if dbutils.fs.ls(csv_path):\n",
    "#     dbutils.fs.rm(csv_path)"
   ]
  }
 ],
 "metadata": {
  "application/vnd.databricks.v1+notebook": {
   "dashboards": [
    {
     "elements": [],
     "globalVars": {},
     "guid": "",
     "layoutOption": {
      "grid": true,
      "stack": true
     },
     "nuid": "3cfb7d78-5487-4726-b470-3986bbb1e07d",
     "origId": 1705173994855988,
     "title": "Dashboard_lost_objects",
     "version": "DashboardViewV1",
     "width": 1024
    }
   ],
   "environmentMetadata": {
    "base_environment": "",
    "client": "1"
   },
   "language": "python",
   "notebookMetadata": {
    "mostRecentlyExecutedCommandWithImplicitDF": {
     "commandId": 1705173994855986,
     "dataframes": [
      "_sqldf"
     ]
    },
    "pythonIndentUnit": 4
   },
   "notebookName": "history_ingestion",
   "widgets": {}
  }
 },
 "nbformat": 4,
 "nbformat_minor": 0
}
